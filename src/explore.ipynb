{
    "cells": [
        {
            "cell_type": "markdown",
            "metadata": {},
            "source": [
                "# Explore here"
            ]
        },
        {
            "cell_type": "code",
            "execution_count": 2,
            "metadata": {},
            "outputs": [],
            "source": [
                "import ipyleaflet\n",
                "import ipywidgets as widgets\n",
                "import matplotlib.pyplot as plt\n",
                "import numpy as np\n",
                "import pandas as pd\n",
                "import psycopg2\n",
                "import pymysql\n",
                "from dotenv import load_dotenv\n",
                "import requests\n",
                "from sklearn import datasets, model_selection, metrics\n",
                "import seaborn as sns\n",
                "import sqlalchemy\n",
                "import sympy\n",
                "import xgboost as xgb\n"
            ]
        },
        {
            "cell_type": "code",
            "execution_count": 21,
            "metadata": {},
            "outputs": [],
            "source": [
                "total_data= pd.read_csv(\"https://raw.githubusercontent.com/4GeeksAcademy/k-nearest-neighbors-project-tutorial/refs/heads/main/winequality-red.csv\", sep=';')\n"
            ]
        },
        {
            "cell_type": "code",
            "execution_count": null,
            "metadata": {},
            "outputs": [
                {
                    "data": {
                        "text/html": [
                            "<div>\n",
                            "<style scoped>\n",
                            "    .dataframe tbody tr th:only-of-type {\n",
                            "        vertical-align: middle;\n",
                            "    }\n",
                            "\n",
                            "    .dataframe tbody tr th {\n",
                            "        vertical-align: top;\n",
                            "    }\n",
                            "\n",
                            "    .dataframe thead th {\n",
                            "        text-align: right;\n",
                            "    }\n",
                            "</style>\n",
                            "<table border=\"1\" class=\"dataframe\">\n",
                            "  <thead>\n",
                            "    <tr style=\"text-align: right;\">\n",
                            "      <th></th>\n",
                            "      <th>fixed acidity</th>\n",
                            "      <th>volatile acidity</th>\n",
                            "      <th>citric acid</th>\n",
                            "      <th>residual sugar</th>\n",
                            "      <th>chlorides</th>\n",
                            "      <th>free sulfur dioxide</th>\n",
                            "      <th>total sulfur dioxide</th>\n",
                            "      <th>density</th>\n",
                            "      <th>pH</th>\n",
                            "      <th>sulphates</th>\n",
                            "      <th>alcohol</th>\n",
                            "      <th>quality</th>\n",
                            "    </tr>\n",
                            "  </thead>\n",
                            "  <tbody>\n",
                            "    <tr>\n",
                            "      <th>0</th>\n",
                            "      <td>7.4</td>\n",
                            "      <td>0.70</td>\n",
                            "      <td>0.00</td>\n",
                            "      <td>1.9</td>\n",
                            "      <td>0.076</td>\n",
                            "      <td>11.0</td>\n",
                            "      <td>34.0</td>\n",
                            "      <td>0.9978</td>\n",
                            "      <td>3.51</td>\n",
                            "      <td>0.56</td>\n",
                            "      <td>9.4</td>\n",
                            "      <td>5</td>\n",
                            "    </tr>\n",
                            "    <tr>\n",
                            "      <th>1</th>\n",
                            "      <td>7.8</td>\n",
                            "      <td>0.88</td>\n",
                            "      <td>0.00</td>\n",
                            "      <td>2.6</td>\n",
                            "      <td>0.098</td>\n",
                            "      <td>25.0</td>\n",
                            "      <td>67.0</td>\n",
                            "      <td>0.9968</td>\n",
                            "      <td>3.20</td>\n",
                            "      <td>0.68</td>\n",
                            "      <td>9.8</td>\n",
                            "      <td>5</td>\n",
                            "    </tr>\n",
                            "    <tr>\n",
                            "      <th>2</th>\n",
                            "      <td>7.8</td>\n",
                            "      <td>0.76</td>\n",
                            "      <td>0.04</td>\n",
                            "      <td>2.3</td>\n",
                            "      <td>0.092</td>\n",
                            "      <td>15.0</td>\n",
                            "      <td>54.0</td>\n",
                            "      <td>0.9970</td>\n",
                            "      <td>3.26</td>\n",
                            "      <td>0.65</td>\n",
                            "      <td>9.8</td>\n",
                            "      <td>5</td>\n",
                            "    </tr>\n",
                            "    <tr>\n",
                            "      <th>3</th>\n",
                            "      <td>11.2</td>\n",
                            "      <td>0.28</td>\n",
                            "      <td>0.56</td>\n",
                            "      <td>1.9</td>\n",
                            "      <td>0.075</td>\n",
                            "      <td>17.0</td>\n",
                            "      <td>60.0</td>\n",
                            "      <td>0.9980</td>\n",
                            "      <td>3.16</td>\n",
                            "      <td>0.58</td>\n",
                            "      <td>9.8</td>\n",
                            "      <td>6</td>\n",
                            "    </tr>\n",
                            "    <tr>\n",
                            "      <th>4</th>\n",
                            "      <td>7.4</td>\n",
                            "      <td>0.70</td>\n",
                            "      <td>0.00</td>\n",
                            "      <td>1.9</td>\n",
                            "      <td>0.076</td>\n",
                            "      <td>11.0</td>\n",
                            "      <td>34.0</td>\n",
                            "      <td>0.9978</td>\n",
                            "      <td>3.51</td>\n",
                            "      <td>0.56</td>\n",
                            "      <td>9.4</td>\n",
                            "      <td>5</td>\n",
                            "    </tr>\n",
                            "  </tbody>\n",
                            "</table>\n",
                            "</div>"
                        ],
                        "text/plain": [
                            "   fixed acidity  volatile acidity  citric acid  residual sugar  chlorides  \\\n",
                            "0            7.4              0.70         0.00             1.9      0.076   \n",
                            "1            7.8              0.88         0.00             2.6      0.098   \n",
                            "2            7.8              0.76         0.04             2.3      0.092   \n",
                            "3           11.2              0.28         0.56             1.9      0.075   \n",
                            "4            7.4              0.70         0.00             1.9      0.076   \n",
                            "\n",
                            "   free sulfur dioxide  total sulfur dioxide  density    pH  sulphates  \\\n",
                            "0                 11.0                  34.0   0.9978  3.51       0.56   \n",
                            "1                 25.0                  67.0   0.9968  3.20       0.68   \n",
                            "2                 15.0                  54.0   0.9970  3.26       0.65   \n",
                            "3                 17.0                  60.0   0.9980  3.16       0.58   \n",
                            "4                 11.0                  34.0   0.9978  3.51       0.56   \n",
                            "\n",
                            "   alcohol  quality  \n",
                            "0      9.4        5  \n",
                            "1      9.8        5  \n",
                            "2      9.8        5  \n",
                            "3      9.8        6  \n",
                            "4      9.4        5  "
                        ]
                    },
                    "execution_count": 23,
                    "metadata": {},
                    "output_type": "execute_result"
                }
            ],
            "source": [
                "total_data.head()\n",
                "# label es el target"
            ]
        },
        {
            "cell_type": "code",
            "execution_count": 24,
            "metadata": {},
            "outputs": [
                {
                    "data": {
                        "text/plain": [
                            "Index(['fixed acidity', 'volatile acidity', 'citric acid', 'residual sugar',\n",
                            "       'chlorides', 'free sulfur dioxide', 'total sulfur dioxide', 'density',\n",
                            "       'pH', 'sulphates', 'alcohol', 'quality'],\n",
                            "      dtype='object')"
                        ]
                    },
                    "execution_count": 24,
                    "metadata": {},
                    "output_type": "execute_result"
                }
            ],
            "source": [
                "total_data.columns"
            ]
        },
        {
            "cell_type": "code",
            "execution_count": 26,
            "metadata": {},
            "outputs": [
                {
                    "name": "stdout",
                    "output_type": "stream",
                    "text": [
                        "<class 'pandas.core.frame.DataFrame'>\n",
                        "RangeIndex: 1599 entries, 0 to 1598\n",
                        "Data columns (total 12 columns):\n",
                        " #   Column                Non-Null Count  Dtype  \n",
                        "---  ------                --------------  -----  \n",
                        " 0   fixed acidity         1599 non-null   float64\n",
                        " 1   volatile acidity      1599 non-null   float64\n",
                        " 2   citric acid           1599 non-null   float64\n",
                        " 3   residual sugar        1599 non-null   float64\n",
                        " 4   chlorides             1599 non-null   float64\n",
                        " 5   free sulfur dioxide   1599 non-null   float64\n",
                        " 6   total sulfur dioxide  1599 non-null   float64\n",
                        " 7   density               1599 non-null   float64\n",
                        " 8   pH                    1599 non-null   float64\n",
                        " 9   sulphates             1599 non-null   float64\n",
                        " 10  alcohol               1599 non-null   float64\n",
                        " 11  quality               1599 non-null   int64  \n",
                        "dtypes: float64(11), int64(1)\n",
                        "memory usage: 150.0 KB\n",
                        "None\n"
                    ]
                },
                {
                    "data": {
                        "text/html": [
                            "<div>\n",
                            "<style scoped>\n",
                            "    .dataframe tbody tr th:only-of-type {\n",
                            "        vertical-align: middle;\n",
                            "    }\n",
                            "\n",
                            "    .dataframe tbody tr th {\n",
                            "        vertical-align: top;\n",
                            "    }\n",
                            "\n",
                            "    .dataframe thead th {\n",
                            "        text-align: right;\n",
                            "    }\n",
                            "</style>\n",
                            "<table border=\"1\" class=\"dataframe\">\n",
                            "  <thead>\n",
                            "    <tr style=\"text-align: right;\">\n",
                            "      <th></th>\n",
                            "      <th>fixed acidity</th>\n",
                            "      <th>volatile acidity</th>\n",
                            "      <th>citric acid</th>\n",
                            "      <th>residual sugar</th>\n",
                            "      <th>chlorides</th>\n",
                            "      <th>free sulfur dioxide</th>\n",
                            "      <th>total sulfur dioxide</th>\n",
                            "      <th>density</th>\n",
                            "      <th>pH</th>\n",
                            "      <th>sulphates</th>\n",
                            "      <th>alcohol</th>\n",
                            "      <th>quality</th>\n",
                            "    </tr>\n",
                            "  </thead>\n",
                            "  <tbody>\n",
                            "    <tr>\n",
                            "      <th>count</th>\n",
                            "      <td>1599.000000</td>\n",
                            "      <td>1599.000000</td>\n",
                            "      <td>1599.000000</td>\n",
                            "      <td>1599.000000</td>\n",
                            "      <td>1599.000000</td>\n",
                            "      <td>1599.000000</td>\n",
                            "      <td>1599.000000</td>\n",
                            "      <td>1599.000000</td>\n",
                            "      <td>1599.000000</td>\n",
                            "      <td>1599.000000</td>\n",
                            "      <td>1599.000000</td>\n",
                            "      <td>1599.000000</td>\n",
                            "    </tr>\n",
                            "    <tr>\n",
                            "      <th>mean</th>\n",
                            "      <td>8.319637</td>\n",
                            "      <td>0.527821</td>\n",
                            "      <td>0.270976</td>\n",
                            "      <td>2.538806</td>\n",
                            "      <td>0.087467</td>\n",
                            "      <td>15.874922</td>\n",
                            "      <td>46.467792</td>\n",
                            "      <td>0.996747</td>\n",
                            "      <td>3.311113</td>\n",
                            "      <td>0.658149</td>\n",
                            "      <td>10.422983</td>\n",
                            "      <td>5.636023</td>\n",
                            "    </tr>\n",
                            "    <tr>\n",
                            "      <th>std</th>\n",
                            "      <td>1.741096</td>\n",
                            "      <td>0.179060</td>\n",
                            "      <td>0.194801</td>\n",
                            "      <td>1.409928</td>\n",
                            "      <td>0.047065</td>\n",
                            "      <td>10.460157</td>\n",
                            "      <td>32.895324</td>\n",
                            "      <td>0.001887</td>\n",
                            "      <td>0.154386</td>\n",
                            "      <td>0.169507</td>\n",
                            "      <td>1.065668</td>\n",
                            "      <td>0.807569</td>\n",
                            "    </tr>\n",
                            "    <tr>\n",
                            "      <th>min</th>\n",
                            "      <td>4.600000</td>\n",
                            "      <td>0.120000</td>\n",
                            "      <td>0.000000</td>\n",
                            "      <td>0.900000</td>\n",
                            "      <td>0.012000</td>\n",
                            "      <td>1.000000</td>\n",
                            "      <td>6.000000</td>\n",
                            "      <td>0.990070</td>\n",
                            "      <td>2.740000</td>\n",
                            "      <td>0.330000</td>\n",
                            "      <td>8.400000</td>\n",
                            "      <td>3.000000</td>\n",
                            "    </tr>\n",
                            "    <tr>\n",
                            "      <th>25%</th>\n",
                            "      <td>7.100000</td>\n",
                            "      <td>0.390000</td>\n",
                            "      <td>0.090000</td>\n",
                            "      <td>1.900000</td>\n",
                            "      <td>0.070000</td>\n",
                            "      <td>7.000000</td>\n",
                            "      <td>22.000000</td>\n",
                            "      <td>0.995600</td>\n",
                            "      <td>3.210000</td>\n",
                            "      <td>0.550000</td>\n",
                            "      <td>9.500000</td>\n",
                            "      <td>5.000000</td>\n",
                            "    </tr>\n",
                            "    <tr>\n",
                            "      <th>50%</th>\n",
                            "      <td>7.900000</td>\n",
                            "      <td>0.520000</td>\n",
                            "      <td>0.260000</td>\n",
                            "      <td>2.200000</td>\n",
                            "      <td>0.079000</td>\n",
                            "      <td>14.000000</td>\n",
                            "      <td>38.000000</td>\n",
                            "      <td>0.996750</td>\n",
                            "      <td>3.310000</td>\n",
                            "      <td>0.620000</td>\n",
                            "      <td>10.200000</td>\n",
                            "      <td>6.000000</td>\n",
                            "    </tr>\n",
                            "    <tr>\n",
                            "      <th>75%</th>\n",
                            "      <td>9.200000</td>\n",
                            "      <td>0.640000</td>\n",
                            "      <td>0.420000</td>\n",
                            "      <td>2.600000</td>\n",
                            "      <td>0.090000</td>\n",
                            "      <td>21.000000</td>\n",
                            "      <td>62.000000</td>\n",
                            "      <td>0.997835</td>\n",
                            "      <td>3.400000</td>\n",
                            "      <td>0.730000</td>\n",
                            "      <td>11.100000</td>\n",
                            "      <td>6.000000</td>\n",
                            "    </tr>\n",
                            "    <tr>\n",
                            "      <th>max</th>\n",
                            "      <td>15.900000</td>\n",
                            "      <td>1.580000</td>\n",
                            "      <td>1.000000</td>\n",
                            "      <td>15.500000</td>\n",
                            "      <td>0.611000</td>\n",
                            "      <td>72.000000</td>\n",
                            "      <td>289.000000</td>\n",
                            "      <td>1.003690</td>\n",
                            "      <td>4.010000</td>\n",
                            "      <td>2.000000</td>\n",
                            "      <td>14.900000</td>\n",
                            "      <td>8.000000</td>\n",
                            "    </tr>\n",
                            "  </tbody>\n",
                            "</table>\n",
                            "</div>"
                        ],
                        "text/plain": [
                            "       fixed acidity  volatile acidity  citric acid  residual sugar  \\\n",
                            "count    1599.000000       1599.000000  1599.000000     1599.000000   \n",
                            "mean        8.319637          0.527821     0.270976        2.538806   \n",
                            "std         1.741096          0.179060     0.194801        1.409928   \n",
                            "min         4.600000          0.120000     0.000000        0.900000   \n",
                            "25%         7.100000          0.390000     0.090000        1.900000   \n",
                            "50%         7.900000          0.520000     0.260000        2.200000   \n",
                            "75%         9.200000          0.640000     0.420000        2.600000   \n",
                            "max        15.900000          1.580000     1.000000       15.500000   \n",
                            "\n",
                            "         chlorides  free sulfur dioxide  total sulfur dioxide      density  \\\n",
                            "count  1599.000000          1599.000000           1599.000000  1599.000000   \n",
                            "mean      0.087467            15.874922             46.467792     0.996747   \n",
                            "std       0.047065            10.460157             32.895324     0.001887   \n",
                            "min       0.012000             1.000000              6.000000     0.990070   \n",
                            "25%       0.070000             7.000000             22.000000     0.995600   \n",
                            "50%       0.079000            14.000000             38.000000     0.996750   \n",
                            "75%       0.090000            21.000000             62.000000     0.997835   \n",
                            "max       0.611000            72.000000            289.000000     1.003690   \n",
                            "\n",
                            "                pH    sulphates      alcohol      quality  \n",
                            "count  1599.000000  1599.000000  1599.000000  1599.000000  \n",
                            "mean      3.311113     0.658149    10.422983     5.636023  \n",
                            "std       0.154386     0.169507     1.065668     0.807569  \n",
                            "min       2.740000     0.330000     8.400000     3.000000  \n",
                            "25%       3.210000     0.550000     9.500000     5.000000  \n",
                            "50%       3.310000     0.620000    10.200000     6.000000  \n",
                            "75%       3.400000     0.730000    11.100000     6.000000  \n",
                            "max       4.010000     2.000000    14.900000     8.000000  "
                        ]
                    },
                    "execution_count": 26,
                    "metadata": {},
                    "output_type": "execute_result"
                }
            ],
            "source": [
                "print(total_data.info())\n",
                "total_data.describe()"
            ]
        },
        {
            "cell_type": "code",
            "execution_count": 27,
            "metadata": {},
            "outputs": [
                {
                    "data": {
                        "text/plain": [
                            "quality\n",
                            "3     10\n",
                            "4     53\n",
                            "5    681\n",
                            "6    638\n",
                            "7    199\n",
                            "8     18\n",
                            "Name: count, dtype: int64"
                        ]
                    },
                    "execution_count": 27,
                    "metadata": {},
                    "output_type": "execute_result"
                }
            ],
            "source": [
                "total_data['quality'].value_counts().sort_index()\n"
            ]
        },
        {
            "cell_type": "markdown",
            "metadata": {},
            "source": [
                "Dado que la calidad va desde 3 a 8 siendo el 6 el 50% de los datos, quality=6 será calidad media, para que las clases estén más balanceadas, \n",
                "\n",
                "La columna objetivo es label:\n",
                "\n",
                "0 = Baja calidad 3-5\n",
                "\n",
                "1 = Calidad media ==6\n",
                "\n",
                "2 = Alta calidad >6\n"
            ]
        },
        {
            "cell_type": "code",
            "execution_count": 41,
            "metadata": {},
            "outputs": [],
            "source": [
                "\n",
                "df = total_data.copy() \n",
                "\n",
                "def quality_label(q):\n",
                "    if q <= 4:\n",
                "        return 0\n",
                "    elif q <= 6:\n",
                "        return 1\n",
                "    else:\n",
                "        return 2\n",
                "\n",
                "df['label'] = df['quality'].apply(quality_label)\n",
                "\n"
            ]
        },
        {
            "cell_type": "code",
            "execution_count": 42,
            "metadata": {},
            "outputs": [
                {
                    "name": "stdout",
                    "output_type": "stream",
                    "text": [
                        "Accuracy con k=5: 0.8438\n",
                        "[[  1  10   0]\n",
                        " [  1 250  11]\n",
                        " [  0  28  19]]\n",
                        "\n",
                        "Reporte de clasificación:\n",
                        "              precision    recall  f1-score   support\n",
                        "\n",
                        "        Baja       0.50      0.09      0.15        11\n",
                        "       Media       0.87      0.95      0.91       262\n",
                        "        Alta       0.63      0.40      0.49        47\n",
                        "\n",
                        "    accuracy                           0.84       320\n",
                        "   macro avg       0.67      0.48      0.52       320\n",
                        "weighted avg       0.82      0.84      0.82       320\n",
                        "\n"
                    ]
                }
            ],
            "source": [
                "from sklearn.model_selection import train_test_split\n",
                "from sklearn.preprocessing import StandardScaler\n",
                "from sklearn.neighbors import KNeighborsClassifier\n",
                "from sklearn.metrics import accuracy_score, confusion_matrix, classification_report\n",
                "\n",
                "\n",
                "X = df.drop(['quality', 'label'], axis=1)\n",
                "y = df['label']\n",
                "\n",
                "scaler = StandardScaler()\n",
                "X_scaled = scaler.fit_transform(X)\n",
                "\n",
                "\n",
                "X_train, X_test, y_train, y_test = train_test_split(X_scaled, y, test_size=0.2, random_state=42)\n",
                "\n",
                "\n",
                "knn = KNeighborsClassifier(n_neighbors=5)\n",
                "knn.fit(X_train, y_train)\n",
                "y_pred = knn.predict(X_test)\n",
                "\n",
                "\n",
                "print(f\"Accuracy con k=5: {accuracy_score(y_test, y_pred):.4f}\")\n",
                "print(confusion_matrix(y_test, y_pred))\n",
                "print(\"\\nReporte de clasificación:\")\n",
                "print(classification_report(y_test, y_pred, target_names=['Baja', 'Media', 'Alta']))\n"
            ]
        },
        {
            "cell_type": "code",
            "execution_count": 43,
            "metadata": {},
            "outputs": [
                {
                    "name": "stdout",
                    "output_type": "stream",
                    "text": [
                        "✅ Mejor k: 15 con accuracy de 0.8594\n"
                    ]
                },
                {
                    "data": {
                        "image/png": "[encoded data removed]",
                        "text/plain": [
                            "<Figure size 1000x500 with 1 Axes>"
                        ]
                    },
                    "metadata": {},
                    "output_type": "display_data"
                }
            ],
            "source": [
                "k_values = range(1, 21)\n",
                "accuracies = []\n",
                "\n",
                "\n",
                "for k in k_values:\n",
                "    knn = KNeighborsClassifier(n_neighbors=k)\n",
                "    knn.fit(X_train, y_train)\n",
                "    y_pred = knn.predict(X_test)\n",
                "    acc = accuracy_score(y_test, y_pred)\n",
                "    accuracies.append(acc)\n",
                "\n",
                "best_k = k_values[np.argmax(accuracies)]\n",
                "best_acc = max(accuracies)\n",
                "print(f\"✅ Mejor k: {best_k} con accuracy de {best_acc:.4f}\")\n",
                "\n",
                "# Gráfica\n",
                "plt.figure(figsize=(10, 5))\n",
                "plt.plot(k_values, accuracies, marker='o', color='darkred')\n",
                "plt.title('Accuracy vs Número de Vecinos (k)')\n",
                "plt.xlabel('k')\n",
                "plt.ylabel('Accuracy')\n",
                "plt.xticks(k_values)\n",
                "plt.grid(True)\n",
                "plt.show()\n"
            ]
        },
        {
            "cell_type": "code",
            "execution_count": 44,
            "metadata": {},
            "outputs": [
                {
                    "name": "stdout",
                    "output_type": "stream",
                    "text": [
                        "\n",
                        "Reporte de clasificación:\n",
                        "              precision    recall  f1-score   support\n",
                        "\n",
                        "        Baja       0.00      0.00      0.00        11\n",
                        "       Media       0.87      0.97      0.92       262\n",
                        "        Alta       0.74      0.43      0.54        47\n",
                        "\n",
                        "    accuracy                           0.86       320\n",
                        "   macro avg       0.54      0.47      0.49       320\n",
                        "weighted avg       0.82      0.86      0.83       320\n",
                        "\n"
                    ]
                },
                {
                    "name": "stderr",
                    "output_type": "stream",
                    "text": [
                        "/home/vscode/.local/lib/python3.11/site-packages/sklearn/metrics/_classification.py:1565: UndefinedMetricWarning: Precision is ill-defined and being set to 0.0 in labels with no predicted samples. Use `zero_division` parameter to control this behavior.\n",
                        "  _warn_prf(average, modifier, f\"{metric.capitalize()} is\", len(result))\n",
                        "/home/vscode/.local/lib/python3.11/site-packages/sklearn/metrics/_classification.py:1565: UndefinedMetricWarning: Precision is ill-defined and being set to 0.0 in labels with no predicted samples. Use `zero_division` parameter to control this behavior.\n",
                        "  _warn_prf(average, modifier, f\"{metric.capitalize()} is\", len(result))\n",
                        "/home/vscode/.local/lib/python3.11/site-packages/sklearn/metrics/_classification.py:1565: UndefinedMetricWarning: Precision is ill-defined and being set to 0.0 in labels with no predicted samples. Use `zero_division` parameter to control this behavior.\n",
                        "  _warn_prf(average, modifier, f\"{metric.capitalize()} is\", len(result))\n"
                    ]
                }
            ],
            "source": [
                "\n",
                "final_knn = KNeighborsClassifier(n_neighbors=best_k)\n",
                "final_knn.fit(X_train, y_train)\n",
                "final_preds = final_knn.predict(X_test)\n",
                "\n",
                "print(\"\\nReporte de clasificación:\")\n",
                "print(classification_report(y_test, final_preds, target_names=['Baja', 'Media', 'Alta']))\n"
            ]
        },
        {
            "cell_type": "code",
            "execution_count": 45,
            "metadata": {},
            "outputs": [
                {
                    "name": "stdout",
                    "output_type": "stream",
                    "text": [
                        "✅ Mejor k basado en test set: 15 con accuracy de 0.8594\n"
                    ]
                },
                {
                    "data": {
                        "image/png": "[encoded data removed]",
                        "text/plain": [
                            "<Figure size 1000x500 with 1 Axes>"
                        ]
                    },
                    "metadata": {},
                    "output_type": "display_data"
                }
            ],
            "source": [
                "train_accuracies = []\n",
                "test_accuracies = []\n",
                "k_values = range(1, 21)\n",
                "\n",
                "for k in k_values:\n",
                "    knn = KNeighborsClassifier(n_neighbors=k)\n",
                "    knn.fit(X_train, y_train)\n",
                "\n",
                "    # Accuracy en entrenamiento y prueba\n",
                "    train_acc = accuracy_score(y_train, knn.predict(X_train))\n",
                "    test_acc = accuracy_score(y_test, knn.predict(X_test))\n",
                "\n",
                "    train_accuracies.append(train_acc)\n",
                "    test_accuracies.append(test_acc)\n",
                "\n",
                "# Mostrar mejor k según test\n",
                "best_k = k_values[np.argmax(test_accuracies)]\n",
                "print(f\"✅ Mejor k basado en test set: {best_k} con accuracy de {max(test_accuracies):.4f}\")\n",
                "\n",
                "# Graficar comparativa\n",
                "plt.figure(figsize=(10, 5))\n",
                "plt.plot(k_values, train_accuracies, label='Entrenamiento', marker='o')\n",
                "plt.plot(k_values, test_accuracies, label='Prueba', marker='s')\n",
                "plt.title('Comparación de Accuracy - Train vs Test')\n",
                "plt.xlabel('k')\n",
                "plt.ylabel('Accuracy')\n",
                "plt.xticks(k_values)\n",
                "plt.grid(True)\n",
                "plt.legend()\n",
                "plt.show()\n"
            ]
        },
        {
            "cell_type": "markdown",
            "metadata": {},
            "source": [
                "a pesar de conseguir el mejor accuray con k=1, estoy en claro overfitting, creo que sería mejor coger k=15, para conseguir mejores resultados."
            ]
        },
        {
            "cell_type": "code",
            "execution_count": 51,
            "metadata": {},
            "outputs": [
                {
                    "name": "stdout",
                    "output_type": "stream",
                    "text": [
                        "🔹 Accuracy en entrenamiento: 0.8397\n",
                        "🔸 Accuracy en prueba:       0.8594\n",
                        "\n",
                        "Reporte de clasificación (test):\n",
                        "              precision    recall  f1-score   support\n",
                        "\n",
                        "        Baja       0.00      0.00      0.00        11\n",
                        "       Media       0.87      0.97      0.92       262\n",
                        "        Alta       0.74      0.43      0.54        47\n",
                        "\n",
                        "    accuracy                           0.86       320\n",
                        "   macro avg       0.54      0.47      0.49       320\n",
                        "weighted avg       0.82      0.86      0.83       320\n",
                        "\n"
                    ]
                },
                {
                    "name": "stderr",
                    "output_type": "stream",
                    "text": [
                        "/home/vscode/.local/lib/python3.11/site-packages/sklearn/metrics/_classification.py:1565: UndefinedMetricWarning: Precision is ill-defined and being set to 0.0 in labels with no predicted samples. Use `zero_division` parameter to control this behavior.\n",
                        "  _warn_prf(average, modifier, f\"{metric.capitalize()} is\", len(result))\n",
                        "/home/vscode/.local/lib/python3.11/site-packages/sklearn/metrics/_classification.py:1565: UndefinedMetricWarning: Precision is ill-defined and being set to 0.0 in labels with no predicted samples. Use `zero_division` parameter to control this behavior.\n",
                        "  _warn_prf(average, modifier, f\"{metric.capitalize()} is\", len(result))\n",
                        "/home/vscode/.local/lib/python3.11/site-packages/sklearn/metrics/_classification.py:1565: UndefinedMetricWarning: Precision is ill-defined and being set to 0.0 in labels with no predicted samples. Use `zero_division` parameter to control this behavior.\n",
                        "  _warn_prf(average, modifier, f\"{metric.capitalize()} is\", len(result))\n"
                    ]
                }
            ],
            "source": [
                "\n",
                "# Entrenar modelo con k=15\n",
                "final_knn = KNeighborsClassifier(n_neighbors=15)\n",
                "final_knn.fit(X_train, y_train)\n",
                "\n",
                "# Predicciones\n",
                "y_train_pred = final_knn.predict(X_train)\n",
                "y_test_pred = final_knn.predict(X_test)\n",
                "\n",
                "# Accuracy\n",
                "train_acc = accuracy_score(y_train, y_train_pred)\n",
                "test_acc = accuracy_score(y_test, y_test_pred)\n",
                "\n",
                "print(f\"🔹 Accuracy en entrenamiento: {train_acc:.4f}\")\n",
                "print(f\"🔸 Accuracy en prueba:       {test_acc:.4f}\")\n",
                "\n",
                "# Reporte de clasificación en test\n",
                "print(\"\\nReporte de clasificación (test):\")\n",
                "print(classification_report(y_test, y_test_pred, target_names=[\"Baja\", \"Media\", \"Alta\"]))\n"
            ]
        },
        {
            "cell_type": "markdown",
            "metadata": {},
            "source": [
                "he cambiado la clasificacón, de las clases de calidad, pq me daba un accuracy del 0.62. Y en ese caso era mejor el k=13"
            ]
        }
    ],
    "metadata": {
        "kernelspec": {
            "display_name": "Python 3",
            "language": "python",
            "name": "python3"
        },
        "language_info": {
            "codemirror_mode": {
                "name": "ipython",
                "version": 3
            },
            "file_extension": ".py",
            "mimetype": "text/x-python",
            "name": "python",
            "nbconvert_exporter": "python",
            "pygments_lexer": "ipython3",
            "version": "3.11.4"
        },
        "orig_nbformat": 4
    },
    "nbformat": 4,
    "nbformat_minor": 2
}
